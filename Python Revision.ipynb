{
 "cells": [
  {
   "cell_type": "code",
   "execution_count": 1,
   "id": "71424978",
   "metadata": {},
   "outputs": [
    {
     "name": "stdout",
     "output_type": "stream",
     "text": [
      "John\n"
     ]
    }
   ],
   "source": [
    "name = 'John'\n",
    "print(name)"
   ]
  },
  {
   "cell_type": "code",
   "execution_count": 2,
   "id": "8e0634cc",
   "metadata": {},
   "outputs": [
    {
     "name": "stdout",
     "output_type": "stream",
     "text": [
      "t\n"
     ]
    }
   ],
   "source": [
    "str = 'table'\n",
    "print(str[0])"
   ]
  },
  {
   "cell_type": "code",
   "execution_count": 3,
   "id": "164e6823",
   "metadata": {},
   "outputs": [
    {
     "name": "stdout",
     "output_type": "stream",
     "text": [
      "ble\n"
     ]
    }
   ],
   "source": [
    "print(str[2:5])"
   ]
  },
  {
   "cell_type": "markdown",
   "id": "4251dbd6",
   "metadata": {},
   "source": [
    "#### Indexing\n"
   ]
  },
  {
   "cell_type": "code",
   "execution_count": 4,
   "id": "b181c188",
   "metadata": {},
   "outputs": [],
   "source": [
    "# print(var_name[start index:end index+1])"
   ]
  },
  {
   "cell_type": "code",
   "execution_count": 5,
   "id": "e57588e1",
   "metadata": {},
   "outputs": [
    {
     "name": "stdout",
     "output_type": "stream",
     "text": [
      "ble\n"
     ]
    }
   ],
   "source": [
    "print(str[2:])"
   ]
  },
  {
   "cell_type": "code",
   "execution_count": 6,
   "id": "660915a2",
   "metadata": {},
   "outputs": [
    {
     "name": "stdout",
     "output_type": "stream",
     "text": [
      "table\n"
     ]
    }
   ],
   "source": [
    "print(str[:])"
   ]
  },
  {
   "cell_type": "code",
   "execution_count": 7,
   "id": "38ccf986",
   "metadata": {},
   "outputs": [
    {
     "name": "stdout",
     "output_type": "stream",
     "text": [
      "['Mali', 'Chad', 'Russia']\n"
     ]
    }
   ],
   "source": [
    "countries = ['Italy', 'Togo', 'Canada','Mali','Chad','Russia']\n",
    "print(countries[3:6])"
   ]
  },
  {
   "cell_type": "markdown",
   "id": "22240c84",
   "metadata": {},
   "source": [
    "#### Appending a list\n"
   ]
  },
  {
   "cell_type": "code",
   "execution_count": 8,
   "id": "bae4046e",
   "metadata": {},
   "outputs": [],
   "source": [
    "prog_lang = ['Python','Java','C++']\n",
    "prog_lang.append('JavaScript')"
   ]
  },
  {
   "cell_type": "code",
   "execution_count": 9,
   "id": "c9c472da",
   "metadata": {},
   "outputs": [
    {
     "name": "stdout",
     "output_type": "stream",
     "text": [
      "['Python', 'Java', 'C++', 'JavaScript']\n"
     ]
    }
   ],
   "source": [
    "print(prog_lang)"
   ]
  },
  {
   "cell_type": "code",
   "execution_count": 10,
   "id": "aa34cbc7",
   "metadata": {},
   "outputs": [
    {
     "name": "stdout",
     "output_type": "stream",
     "text": [
      "['Python', 'Java', 'R', 'C++', 'JavaScript']\n"
     ]
    }
   ],
   "source": [
    "prog_lang.insert(2,'R')\n",
    "print(prog_lang)"
   ]
  },
  {
   "cell_type": "markdown",
   "id": "8d8bd813",
   "metadata": {},
   "source": [
    "#### Dictionaries\n"
   ]
  },
  {
   "cell_type": "code",
   "execution_count": 11,
   "id": "924fed9c",
   "metadata": {},
   "outputs": [
    {
     "name": "stdout",
     "output_type": "stream",
     "text": [
      "{'Toiletry': 'Shower Gel', 'Meat': ['cicken', 'beef', 'chevon'], 'Tuber': 'Yam'}\n"
     ]
    }
   ],
   "source": [
    "Items_bought = {'Toiletry':'Shower Gel',\n",
    "             'Meat':['cicken','beef','chevon'],\n",
    "             'Tuber':'Yam'}\n",
    "print(Items_bought)"
   ]
  },
  {
   "cell_type": "code",
   "execution_count": 12,
   "id": "17661ca7",
   "metadata": {},
   "outputs": [
    {
     "name": "stdout",
     "output_type": "stream",
     "text": [
      "['cicken', 'beef', 'chevon']\n"
     ]
    }
   ],
   "source": [
    "print(Items_bought['Meat'])"
   ]
  },
  {
   "cell_type": "code",
   "execution_count": 13,
   "id": "f292cbb3",
   "metadata": {},
   "outputs": [
    {
     "name": "stdout",
     "output_type": "stream",
     "text": [
      "beef\n"
     ]
    }
   ],
   "source": [
    "print(Items_bought['Meat'][1])"
   ]
  },
  {
   "cell_type": "code",
   "execution_count": 14,
   "id": "5de53a1b",
   "metadata": {},
   "outputs": [
    {
     "name": "stdout",
     "output_type": "stream",
     "text": [
      "['beef', 'chevon']\n"
     ]
    }
   ],
   "source": [
    "print(Items_bought['Meat'][1:])"
   ]
  },
  {
   "cell_type": "code",
   "execution_count": 15,
   "id": "a90e72ef",
   "metadata": {},
   "outputs": [
    {
     "data": {
      "text/plain": [
       "dict_values(['Shower Gel', ['cicken', 'beef', 'chevon'], 'Yam'])"
      ]
     },
     "execution_count": 15,
     "metadata": {},
     "output_type": "execute_result"
    }
   ],
   "source": [
    "Items_bought.values()"
   ]
  },
  {
   "cell_type": "markdown",
   "id": "87c40f14",
   "metadata": {},
   "source": [
    "#### Removing or deleting in a dictionary"
   ]
  },
  {
   "cell_type": "code",
   "execution_count": 16,
   "id": "ea59951a",
   "metadata": {},
   "outputs": [
    {
     "name": "stdout",
     "output_type": "stream",
     "text": [
      "{'Blue': 'light blue', 'Red': 'spicy red', 'Pink': 'hot pink'}\n"
     ]
    }
   ],
   "source": [
    "colors = {'Blue':'light blue','Red':'spicy red','Pink':'hot pink'}\n",
    "print(colors)"
   ]
  },
  {
   "cell_type": "code",
   "execution_count": 17,
   "id": "13879ee6",
   "metadata": {},
   "outputs": [],
   "source": [
    "#help('dict')"
   ]
  },
  {
   "cell_type": "code",
   "execution_count": 18,
   "id": "57a02ee7",
   "metadata": {},
   "outputs": [
    {
     "name": "stdout",
     "output_type": "stream",
     "text": [
      "{'Red': 'spicy red', 'Pink': 'hot pink'}\n"
     ]
    }
   ],
   "source": [
    "del colors['Blue']\n",
    "print(colors)"
   ]
  },
  {
   "cell_type": "code",
   "execution_count": 21,
   "id": "f30934ff",
   "metadata": {},
   "outputs": [],
   "source": [
    "colors.clear()"
   ]
  },
  {
   "cell_type": "code",
   "execution_count": 22,
   "id": "67a35d30",
   "metadata": {},
   "outputs": [
    {
     "name": "stdout",
     "output_type": "stream",
     "text": [
      "{}\n"
     ]
    }
   ],
   "source": [
    "print(colors)"
   ]
  },
  {
   "cell_type": "code",
   "execution_count": 24,
   "id": "e482609e",
   "metadata": {},
   "outputs": [
    {
     "name": "stdout",
     "output_type": "stream",
     "text": [
      "{'Toiletry': 'Shower Gel', 'Meat': ['cicken', 'beef', 'chevon'], 'Tuber': 'Yam', 'Drinks': ['sobolo', 'champagne']}\n"
     ]
    }
   ],
   "source": [
    "Items_bought['Drinks']=['sobolo','champagne']\n",
    "print(Items_bought)"
   ]
  },
  {
   "cell_type": "code",
   "execution_count": 26,
   "id": "8dd6ff89",
   "metadata": {},
   "outputs": [
    {
     "data": {
      "text/plain": [
       "dict_items([('Toiletry', 'Shower Gel'), ('Meat', ['cicken', 'beef', 'chevon']), ('Tuber', 'Yam'), ('Drinks', ['sobolo', 'champagne'])])"
      ]
     },
     "execution_count": 26,
     "metadata": {},
     "output_type": "execute_result"
    }
   ],
   "source": [
    "Items_bought.items()"
   ]
  },
  {
   "cell_type": "code",
   "execution_count": 27,
   "id": "a880672d",
   "metadata": {},
   "outputs": [
    {
     "data": {
      "text/plain": [
       "dict_keys(['Toiletry', 'Meat', 'Tuber', 'Drinks'])"
      ]
     },
     "execution_count": 27,
     "metadata": {},
     "output_type": "execute_result"
    }
   ],
   "source": [
    "Items_bought.keys()"
   ]
  },
  {
   "cell_type": "code",
   "execution_count": 28,
   "id": "e68e0ce8",
   "metadata": {},
   "outputs": [
    {
     "data": {
      "text/plain": [
       "dict_values(['Shower Gel', ['cicken', 'beef', 'chevon'], 'Yam', ['sobolo', 'champagne']])"
      ]
     },
     "execution_count": 28,
     "metadata": {},
     "output_type": "execute_result"
    }
   ],
   "source": [
    "Items_bought.values()"
   ]
  },
  {
   "cell_type": "code",
   "execution_count": null,
   "id": "4ad517a2",
   "metadata": {},
   "outputs": [],
   "source": []
  }
 ],
 "metadata": {
  "kernelspec": {
   "display_name": "Python 3",
   "language": "python",
   "name": "python3"
  },
  "language_info": {
   "codemirror_mode": {
    "name": "ipython",
    "version": 3
   },
   "file_extension": ".py",
   "mimetype": "text/x-python",
   "name": "python",
   "nbconvert_exporter": "python",
   "pygments_lexer": "ipython3",
   "version": "3.8.8"
  }
 },
 "nbformat": 4,
 "nbformat_minor": 5
}
